{
 "cells": [
  {
   "cell_type": "code",
   "execution_count": null,
   "id": "d76b7a07",
   "metadata": {},
   "outputs": [],
   "source": [
    "# Importing Modules\n",
    "\n",
    "from tqdm.auto import tqdm\n",
    "import pandas as pd \n",
    "import numpy as np\n",
    "import matplotlib.pyplot as plt\n",
    "import seaborn as sns\n",
    "import re\n",
    "import nltk\n",
    "from nltk.corpus import stopwords\n",
    "nltk.download('stopwords')\n",
    "#from nltk.tokenize import word_tokenize\n",
    "from nltk import word_tokenize,pos_tag\n",
    "nltk.download('averaged_perceptron_tagger')\n",
    "nltk.download('punkt')\n",
    "from nltk.stem.porter import PorterStemmer\n",
    "from nltk.stem import WordNetLemmatizer\n",
    "nltk.download('wordnet')\n",
    "import warnings\n",
    "warnings.filterwarnings('ignore')\n",
    "import string\n",
    "string.punctuation\n",
    "from wordcloud import WordCloud\n",
    "import gensim\n",
    "from gensim import corpora\n",
    "from gensim.utils import simple_preprocess\n",
    "import demoji\n",
    " \n",
    "from google_play_scraper import app,Sort,reviews_all \n",
    "\n",
    "print('Sucessfully imported')"
   ]
  },
  {
   "cell_type": "code",
   "execution_count": null,
   "id": "eebe626c",
   "metadata": {},
   "outputs": [],
   "source": [
    "# Creating a function to scrap the reviews from the library\n",
    "\n",
    "def get_reviews (app_id,milli,lang_c,country_c):\n",
    "    app = reviews_all(app_id,sleep_milliseconds=milli,lang=lang_c,country=country_c,sort=Sort.NEWEST)\n",
    "    app_data = pd.DataFrame(np.array(app),columns=['abc'])\n",
    "    app_data = app_data.join(pd.DataFrame(app_data.pop('abc').tolist()))\n",
    " \n",
    "    return app_data\n",
    "    "
   ]
  },
  {
   "cell_type": "code",
   "execution_count": null,
   "id": "17af246e",
   "metadata": {},
   "outputs": [],
   "source": [
    "# Function to convert data to lower case\n",
    "\n",
    "def lower_case(data):\n",
    "    tqdm.pandas(desc='Lowercase conversion and Whitespace Removal')\n",
    "    df=data.progress_apply(lambda x: x.lower().strip())\n",
    "    return df"
   ]
  },
  {
   "cell_type": "code",
   "execution_count": null,
   "id": "09de92f2",
   "metadata": {},
   "outputs": [],
   "source": [
    "# Function to remove special character\n",
    "\n",
    "def rem_spch (data):\n",
    "    tqdm.pandas(desc='Removing special charac')\n",
    "    df=data.progress_apply(lambda x: re.sub(r\"(@[A-Za-z0-9]+)|([^0-9A-Za-z \\t])|(\\w+:\\/\\/\\S+)|^rt|http.+?\", \"\", x))\n",
    "    return df"
   ]
  },
  {
   "cell_type": "code",
   "execution_count": null,
   "id": "d7bbe7a6",
   "metadata": {},
   "outputs": [],
   "source": [
    "# Function for data cleaning\n",
    "\n",
    "def data_cleaning (data):\n",
    "    tqdm.pandas(desc='Removing Stopwords')\n",
    "    df=data.progress_apply(lambda x:' '.join([i for i in x.split() if i not in stopwords.words('english')]) )\n",
    "    tqdm.pandas(desc='Removing Punctuation')\n",
    "    df=data.progress_apply(lambda x:\"\".join([i for i in x if i not in string.punctuation]))\n",
    "    tqdm.pandas(desc='Removing Numbers')\n",
    "    df=data.progress_apply(lambda x: re.sub(r\"\\d+\", \"\", x))\n",
    "    return df"
   ]
  },
  {
   "cell_type": "code",
   "execution_count": null,
   "id": "1f35e26b",
   "metadata": {},
   "outputs": [],
   "source": [
    "# Function for lemmatization\n",
    "\n",
    "Word_lemma = WordNetLemmatizer()\n",
    "def lemmatizer(text):\n",
    "    tqdm.pandas(desc='Lemmatization process')\n",
    "    lemm_text =text.progress_apply(lambda x: [Word_lemma.lemmatize(word) for word in x])\n",
    "    return lemm_text"
   ]
  },
  {
   "cell_type": "code",
   "execution_count": null,
   "id": "4d021d88",
   "metadata": {},
   "outputs": [],
   "source": [
    "def generate_ngrams(text, n):\n",
    "    words = text.split()\n",
    "    output = []  \n",
    "    for i in range(len(words)-n+1):\n",
    "        output.append(words[i:i+n])\n",
    "    return output"
   ]
  }
 ],
 "metadata": {
  "kernelspec": {
   "display_name": "Python 3 (ipykernel)",
   "language": "python",
   "name": "python3"
  },
  "language_info": {
   "codemirror_mode": {
    "name": "ipython",
    "version": 3
   },
   "file_extension": ".py",
   "mimetype": "text/x-python",
   "name": "python",
   "nbconvert_exporter": "python",
   "pygments_lexer": "ipython3",
   "version": "3.9.12"
  }
 },
 "nbformat": 4,
 "nbformat_minor": 5
}
